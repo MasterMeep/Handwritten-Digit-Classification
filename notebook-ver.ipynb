{
 "cells": [
  {
   "cell_type": "code",
   "execution_count": 246,
   "metadata": {},
   "outputs": [],
   "source": [
    "#import mnist\n",
    "import numpy as np\n",
    "import matplotlib.pyplot as plt\n",
    "import random\n",
    "import torch\n",
    "import torch.nn as nn\n",
    "import torch.nn.functional as F\n",
    "from keras.datasets import mnist"
   ]
  },
  {
   "cell_type": "code",
   "execution_count": 247,
   "metadata": {},
   "outputs": [],
   "source": [
    "(train_images, train_labels), (test_images, test_labels) = mnist.load_data() # Load the data\n",
    "\n",
    "device = \"cuda\" if torch.cuda.is_available() else \"cpu\" # Set the device\n",
    "\n",
    "# ----- Shuffle the data ----- #\n",
    "\n",
    "shuffled_train_indices = np.random.permutation(len(train_images))\n",
    "shuffled_test_indices = np.random.permutation(len(test_images))\n",
    "\n",
    "train_images, train_labels = train_images[shuffled_train_indices], train_labels[shuffled_train_indices]\n",
    "test_images, test_labels = test_images[shuffled_test_indices], test_labels[shuffled_test_indices]\n",
    "\n",
    "# ----- Normalize the data ----- #\n",
    "\n",
    "train_images = train_images / 255.0\n",
    "test_images = test_images / 255.0\n",
    "\n",
    "# ----- One-hot encode the labels ----- #\n",
    "\n",
    "test_labels_non_one_hot = test_labels\n",
    "train_labels_non_one_hot = train_labels\n",
    "\n",
    "train_labels = F.one_hot(torch.tensor(train_labels).long(), num_classes=10).float()\n",
    "test_labels = F.one_hot(torch.tensor(test_labels).long(), num_classes=10).float()\n",
    "\n",
    "# ----- Reshape the data ----- #\n",
    "\n",
    "train_images = torch.tensor(train_images.reshape(-1, 28*28)).float()\n",
    "test_images = torch.tensor(test_images.reshape(-1, 28*28)).float()"
   ]
  },
  {
   "cell_type": "code",
   "execution_count": 248,
   "metadata": {},
   "outputs": [],
   "source": [
    "# ----- Hyperparameters ----- #\n",
    "\n",
    "input_size = 784\n",
    "hidden_size = 128\n",
    "num_classes = 10\n",
    "epochs = 5\n",
    "layer_count = 4"
   ]
  },
  {
   "cell_type": "code",
   "execution_count": 249,
   "metadata": {},
   "outputs": [],
   "source": [
    "data_loader = torch.utils.data.DataLoader(dataset=list(zip(train_images, train_labels)), batch_size=64, shuffle=True)"
   ]
  },
  {
   "cell_type": "code",
   "execution_count": 273,
   "metadata": {},
   "outputs": [],
   "source": [
    "class Model(nn.Module):\n",
    "    def __init__(self):\n",
    "        super().__init__()\n",
    "        self.model = nn.Sequential(nn.Linear(784, 784), nn.ReLU(), nn.BatchNorm1d(784), nn.Linear(784, 10))\n",
    "        \n",
    "    def forward(self, inputs):\n",
    "        return self.model(inputs)\n",
    "    \n",
    "    def classify(self, inputs):\n",
    "        return torch.argmax(self.forward(inputs), dim=1)"
   ]
  },
  {
   "cell_type": "code",
   "execution_count": 275,
   "metadata": {},
   "outputs": [],
   "source": [
    "model = Model()\n",
    "optimizer = torch.optim.Adam(model.parameters(), lr=0.001)"
   ]
  },
  {
   "cell_type": "code",
   "execution_count": 288,
   "metadata": {},
   "outputs": [
    {
     "name": "stdout",
     "output_type": "stream",
     "text": [
      "Epoch 1/5 | Loss: 0.01174 | Accuracy: 0.99564\n",
      "Epoch 2/5 | Loss: 0.00234 | Accuracy: 0.99620\n",
      "Epoch 3/5 | Loss: 0.20425 | Accuracy: 0.99602\n",
      "Epoch 4/5 | Loss: 0.24443 | Accuracy: 0.99604\n",
      "Epoch 5/5 | Loss: 0.04665 | Accuracy: 0.99574\n"
     ]
    }
   ],
   "source": [
    "for epoch in range(epochs):\n",
    "    model.train()\n",
    "    for input_batch, label_batch in data_loader:\n",
    "        label_prediction = model(input_batch)\n",
    "        loss = F.cross_entropy(label_prediction, label_batch)\n",
    "        optimizer.zero_grad()\n",
    "        loss.backward()\n",
    "        optimizer.step()\n",
    "    \n",
    "    model.eval()\n",
    "    with torch.no_grad():\n",
    "        label_prediction = model(test_images)\n",
    "        accuracy = (F.one_hot(torch.argmax(label_prediction, dim=1), num_classes=10) == test_labels).float().mean()\n",
    "        print(f\"Epoch {epoch+1}/{epochs} | Loss: {loss:.5f} | Accuracy: {accuracy:.5f}\")"
   ]
  },
  {
   "cell_type": "code",
   "execution_count": 280,
   "metadata": {},
   "outputs": [
    {
     "data": {
      "image/png": "[encoded data removed]",
      "text/plain": [
       "<Figure size 432x288 with 10 Axes>"
      ]
     },
     "metadata": {
      "needs_background": "light"
     },
     "output_type": "display_data"
    }
   ],
   "source": [
    "for i in range(10):\n",
    "    plt.subplot(2, 5, i+1)\n",
    "    plt.imshow(test_images[i].reshape(28, 28), cmap=\"gray\")\n",
    "    plt.title(test_labels_non_one_hot[i])\n",
    "    plt.axis(\"off\")"
   ]
  },
  {
   "cell_type": "code",
   "execution_count": 287,
   "metadata": {},
   "outputs": [
    {
     "name": "stdout",
     "output_type": "stream",
     "text": [
      "Predicted:  [3, 7, 1, 9, 8, 0, 0, 9, 7, 9]\n",
      "Expected:   [3, 7, 1, 9, 8, 0, 0, 9, 7, 9]\n"
     ]
    }
   ],
   "source": [
    "print(\"Predicted: \", model.classify(test_images[:10].reshape(-1, 784)).tolist())\n",
    "print(\"Expected:  \", test_labels_non_one_hot[:10].tolist())"
   ]
  }
 ],
 "metadata": {
  "kernelspec": {
   "display_name": "LLM",
   "language": "python",
   "name": "python3"
  },
  "language_info": {
   "codemirror_mode": {
    "name": "ipython",
    "version": 3
   },
   "file_extension": ".py",
   "mimetype": "text/x-python",
   "name": "python",
   "nbconvert_exporter": "python",
   "pygments_lexer": "ipython3",
   "version": "3.10.11"
  },
  "orig_nbformat": 4
 },
 "nbformat": 4,
 "nbformat_minor": 2
}
